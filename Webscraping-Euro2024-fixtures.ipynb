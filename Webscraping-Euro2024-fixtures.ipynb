{
 "cells": [
  {
   "cell_type": "code",
   "execution_count": 2,
   "id": "5bc86582",
   "metadata": {},
   "outputs": [],
   "source": [
    "import requests\n",
    "from bs4 import BeautifulSoup"
   ]
  },
  {
   "cell_type": "code",
   "execution_count": 3,
   "id": "9eb905a2",
   "metadata": {},
   "outputs": [],
   "source": [
    "url = \"https://en.wikipedia.org/wiki/UEFA_Euro_2024.html\"\n",
    "response = requests.get(url)\n",
    "html = response.content\n",
    "scraped = BeautifulSoup(html, \"html.parser\")"
   ]
  },
  {
   "cell_type": "code",
   "execution_count": 15,
   "id": "a3eac467",
   "metadata": {},
   "outputs": [],
   "source": [
    "dates = scraped.find_all(\"div\", class_=\"fdate\")"
   ]
  },
  {
   "cell_type": "code",
   "execution_count": 36,
   "id": "feaae2e7",
   "metadata": {},
   "outputs": [],
   "source": [
    "teams = scraped.find_all(\"tr\", itemprop=\"name\")"
   ]
  },
  {
   "cell_type": "code",
   "execution_count": 43,
   "id": "6334eaf3",
   "metadata": {},
   "outputs": [
    {
     "name": "stdout",
     "output_type": "stream",
     "text": [
      "14 June 2024 Germany Match 1 Scotland\n",
      "15 June 2024 Hungary Match 2  Switzerland\n",
      "19 June 2024 Germany Match 14 Hungary\n",
      "19 June 2024 Scotland Match 13  Switzerland\n",
      "23 June 2024 Switzerland Match 25 Germany\n",
      "23 June 2024 Scotland Match 26 Hungary\n",
      "15 June 2024 Spain Match 3 Croatia\n",
      "15 June 2024 Italy Match 4 Albania\n",
      "19 June 2024 Croatia Match 15 Albania\n",
      "20 June 2024 Spain Match 16 Italy\n",
      "24 June 2024 Albania Match 27 Spain\n",
      "24 June 2024 Croatia Match 28 Italy\n",
      "16 June 2024 Slovenia Match 6 Denmark\n",
      "16 June 2024 Serbia Match 5 England\n",
      "20 June 2024 Slovenia Match 18 Serbia\n",
      "20 June 2024 Denmark Match 17 England\n",
      "25 June 2024 England Match 29 Slovenia\n",
      "25 June 2024 Denmark Match 30 Serbia\n",
      "16 June 2024 Poland Match 7 Netherlands\n",
      "17 June 2024 Austria Match 8 France\n",
      "21 June 2024 Poland Match 19 Austria\n",
      "21 June 2024 Netherlands Match 20 France\n",
      "25 June 2024 Netherlands Match 31 Austria\n",
      "25 June 2024 France Match 32 Poland\n",
      "17 June 2024 Romania Match 10 Ukraine\n",
      "17 June 2024 Belgium Match 9 Slovakia\n",
      "21 June 2024 Slovakia Match 21 Ukraine\n",
      "22 June 2024 Belgium Match 22 Romania\n",
      "26 June 2024 Slovakia Match 33 Romania\n",
      "26 June 2024 Ukraine Match 34 Belgium\n",
      "18 June 2024 Turkey Match 11 Georgia\n",
      "18 June 2024 Portugal Match 12 Czech Republic\n",
      "22 June 2024 Georgia Match 24 Czech Republic\n",
      "22 June 2024 Turkey Match 23 Portugal\n",
      "26 June 2024 Georgia Match 35 Portugal\n",
      "26 June 2024 Czech Republic Match 36 Turkey\n",
      "29 June 2024 Runner-up Group AMatch 38Runner-up Group B\n",
      "29 June 2024 Winner Group AMatch 37Runner-up Group C\n",
      "30 June 2024 Winner Group CMatch 403rd Group D/E/F\n",
      "30 June 2024 Winner Group BMatch 393rd Group A/D/E/F\n",
      "1 July 2024 Runner-up Group DMatch 42Runner-up Group E\n",
      "1 July 2024 Winner Group FMatch 413rd Group A/B/C\n",
      "2 July 2024 Winner Group EMatch 433rd Group A/B/C/D\n",
      "2 July 2024 Winner Group DMatch 44Runner-up Group F\n",
      "5 July 2024 Winner Match 39Match 45Winner Match 37\n",
      "5 July 2024 Winner Match 41Match 46Winner Match 42\n",
      "6 July 2024 Winner Match 40Match 48Winner Match 38\n",
      "6 July 2024 Winner Match 43Match 47Winner Match 44\n",
      "9 July 2024 Winner Match 45Match 49Winner Match 46\n",
      "10 July 2024 Winner Match 47Match 50Winner Match 48\n",
      "14 July 2024 Winner Match 49Match 51Winner Match 50\n"
     ]
    }
   ],
   "source": [
    "for date, team in zip(dates, teams):\n",
    "    print(f\"{date.text.strip()[:-13]} {team.text.strip()}\")"
   ]
  },
  {
   "cell_type": "code",
   "execution_count": null,
   "id": "38bc3b23",
   "metadata": {},
   "outputs": [],
   "source": []
  }
 ],
 "metadata": {
  "kernelspec": {
   "display_name": "Python 3 (ipykernel)",
   "language": "python",
   "name": "python3"
  },
  "language_info": {
   "codemirror_mode": {
    "name": "ipython",
    "version": 3
   },
   "file_extension": ".py",
   "mimetype": "text/x-python",
   "name": "python",
   "nbconvert_exporter": "python",
   "pygments_lexer": "ipython3",
   "version": "3.11.5"
  }
 },
 "nbformat": 4,
 "nbformat_minor": 5
}
